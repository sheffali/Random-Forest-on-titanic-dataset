{
  "nbformat": 4,
  "nbformat_minor": 0,
  "metadata": {
    "colab": {
      "name": "cuberoot_final.ipynb",
      "provenance": [],
      "collapsed_sections": [],
      "authorship_tag": "ABX9TyP7ZNL8ZfVWncAo8PrhWQfO",
      "include_colab_link": true
    },
    "kernelspec": {
      "name": "python3",
      "display_name": "Python 3"
    }
  },
  "cells": [
    {
      "cell_type": "markdown",
      "metadata": {
        "id": "view-in-github",
        "colab_type": "text"
      },
      "source": [
        "<a href=\"https://colab.research.google.com/github/sheffali/Random-Forest-on-titanic-dataset/blob/master/cuberoot_final.ipynb\" target=\"_parent\"><img src=\"https://colab.research.google.com/assets/colab-badge.svg\" alt=\"Open In Colab\"/></a>"
      ]
    },
    {
      "cell_type": "code",
      "metadata": {
        "id": "zB4n6kL1x0WD",
        "colab_type": "code",
        "colab": {
          "base_uri": "https://localhost:8080/",
          "height": 68
        },
        "outputId": "444a3aa5-fd97-4e36-a204-171916339030"
      },
      "source": [
        "# THIS APPROACH IS A MODIFICATION TO APPROXIMATION TECHNIQUE USED TO CALUCALTE PERFECT CUBE WHOLE NUMBERS\n",
        "\n",
        "def return_cuberoot(num):\n",
        "    num_dict = [] #num will be stored here in form of dictionary \n",
        "    num_len = 0 #length of number\n",
        "\n",
        "    #calculating length of a number without using length method\n",
        "    for digit in num:\n",
        "        try:\n",
        "            num_dict.append(int(digit)) #digit by digit number is added  \n",
        "        except ValueError as err:\n",
        "            return \"Please Enter a Valid Input!\" #exception handling(if u pass any other value apart from positive integer, it would return an exception)\n",
        "        num_len += 1\n",
        "    \n",
        "    #above code would convert num(887) into num_dict [8,8,7] along with num_len =3\n",
        "\n",
        "    #length function directly(as mentioned below) instead of above mentioned code\n",
        "    #num_len =len(num)\n",
        "   \n",
        "\n",
        "    #after calculating length,number is again converted back from dictionary to integer form (could be avioded by directly trypecaseted)\n",
        "\n",
        "    intnum = 0\n",
        "    x = num_len - 1 # x= 3-1 =2\n",
        "    y = 1 #variable for place value\n",
        "    while x >= 0 : #x=2,1,0\n",
        "        intnum += num_dict[x]*y  #intnum+= num_dict[2]*1 ie 7 , intnum+=[1]*10 ie 80+7=87, intnum+=[0]*100=800+87=887\n",
        "        y *= 10 #y=10,100\n",
        "        x -= 1 #x=2,1,0\n",
        "\n",
        "    #instead of this,input can be directly converted to int using int() as (mentioned below)\n",
        "    intnum=int(num)\n",
        "      \n",
        "    #Cube root computation using Approximation technique\n",
        "\n",
        "    digit_dict = [2, 4, 9, 21, 46, 99, 215, 464, 999, 2154, 4641, 9999, 21544, 46415, 99999] #dictionary storing largest perfect cuberoot as per the length of \n",
        "                                                                                             #digits i.e 2 is largest  perfect cuberoot for 1 digit number\n",
        "                                                                                             # and 99999 largest is perfect cuberoot for 15 digit number\n",
        "\n",
        "#lower limit set and upper limit\n",
        "    approx1e = digit_dict[num_len-1] #approximating the digit towards left of decimal wrt the digit_dict \n",
        "                                    #(approx1e= digit_dict[num_length ie 3 -1 ie 2] = approx1e=9 as dictonary start with index 0)\n",
        "    if num_len == 1: #if number is 8 ie digit length is 1 and approx1s =1\n",
        "        approx1s = 1 #false for 887\n",
        "    else:\n",
        "        approx1s = digit_dict[num_len-2] + 1 #appox1s= digit_dict[num_len-2 ie 3-2 ie 1]=4+1=5\n",
        "    x = approx1s # x=5 or x =1 \n",
        "\n",
        "\n",
        "#verifying above values  approxs=5 and approx1e=9(integer limits)\n",
        "    while x <= approx1e: \n",
        "        xcube=x*x*x #x<=approx1e ie 5<=9\n",
        "        if xcube == intnum: # perfect cube test case if 5*5*5!=887 \n",
        "            return x #cuberoot found\n",
        "        if xcube > intnum: #if true,comes out of loop(5*5*5=125,6*6*6=216,7*7*7=343 8*8*8=512,9*9*9=729)\n",
        "            break\n",
        "        x += 1 # x+1 (to comfirm lower and upper limits)\n",
        "#here value of x will be 10 and value of approx1s will be 9 coz while loop has property\n",
        "    approx2s = x - 1 \n",
        "    approx2e = x #(10)\n",
        "\n",
        " #NOW SAME APPROXIMATION WITH 0.01 INCREMENT\n",
        "    x = approx2s\n",
        "    while x <= approx2e:\n",
        "      xcube=x*x*x\n",
        "      if xcube == intnum:\n",
        "          return x\n",
        "      if xcube > intnum:\n",
        "          break\n",
        "      x += 0.01\n",
        " # Returning finaly 2 possible values of cuberoot\n",
        "\n",
        "    possibility1 = x - 0.01\n",
        "    #9.599999999999987\n",
        "    possibility2 = x\n",
        "    #x=9.609999999999987\n",
        "\n",
        "#calculating error here for precision\n",
        "\n",
        "    error1 = intnum - (possibility1 * possibility1 * possibility1)\n",
        "    #error1=887 -(9.599999999999987*9.599999999999987*9.599999999999987) =2.26400000000353\n",
        "    error2 = (possibility2 * possibility2 * possibility2) - intnum\n",
        "    #error2= (9.609999999999987*9.609999999999987*9.609999999999987)-887 =0.5036809999963907\n",
        "\n",
        "#Comparing both the errror values\n",
        "\n",
        "    if error1 > error2:\n",
        "        ans = possibility2 #9.609999999999987\n",
        "    else:\n",
        "        ans = possibility1\n",
        "\n",
        "    ans = '%.2f' % ans #final answer in floating points ie  #float convert =9.61\n",
        "    return ans\n",
        "\n",
        "#main\n",
        "print(\"***Enter a positive integer:***\")\n",
        "number = input() #user input (assume 887)\n",
        "cuberoot = return_cuberoot(number)\n",
        "print(\"CUBE ROOT IS- \"+cuberoot)"
      ],
      "execution_count": 22,
      "outputs": [
        {
          "output_type": "stream",
          "text": [
            "***Enter a positive integer:***\n",
            "887\n",
            "CUBE ROOT IS- 9.61\n"
          ],
          "name": "stdout"
        }
      ]
    },
    {
      "cell_type": "code",
      "metadata": {
        "id": "h9UMz5ZaIlzR",
        "colab_type": "code",
        "colab": {}
      },
      "source": [
        "}"
      ],
      "execution_count": null,
      "outputs": []
    }
  ]
}