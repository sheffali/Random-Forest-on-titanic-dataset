{
  "nbformat": 4,
  "nbformat_minor": 0,
  "metadata": {
    "colab": {
      "name": "Random forest on Titanic dataset",
      "provenance": [],
      "collapsed_sections": [],
      "toc_visible": true
    },
    "kernelspec": {
      "name": "python3",
      "display_name": "Python 3"
    }
  },
  "cells": [
    {
      "cell_type": "markdown",
      "metadata": {
        "id": "6F8MPW-8gH12",
        "colab_type": "text"
      },
      "source": [
        "# Random Forest on Titanic Dataset\n"
      ]
    },
    {
      "cell_type": "markdown",
      "metadata": {
        "id": "ilk2h0LS9T_r",
        "colab_type": "text"
      },
      "source": [
        "# New Section"
      ]
    },
    {
      "cell_type": "code",
      "metadata": {
        "id": "km4Z9cPsf78i",
        "colab_type": "code",
        "colab": {
          "base_uri": "https://localhost:8080/",
          "height": 71
        },
        "outputId": "10335773-6fe5-44fc-d6e9-f3fed359c23b"
      },
      "source": [
        "# Basic Utilities\n",
        "import numpy as np\n",
        "import matplotlib.pyplot as plt\n",
        "import pandas as pd\n",
        "# For Label Encoding\n",
        "from sklearn import preprocessing \n",
        "label_encoder = preprocessing.LabelEncoder() \n",
        "import seaborn as sns\n",
        "\n",
        "# For Printing Accuracy of our prediction\n",
        "from sklearn.metrics import accuracy_score\n",
        "# For Importing the Random Forest Classifier \n",
        "from sklearn.ensemble import RandomForestClassifier"
      ],
      "execution_count": 1,
      "outputs": [
        {
          "output_type": "stream",
          "text": [
            "/usr/local/lib/python3.6/dist-packages/statsmodels/tools/_testing.py:19: FutureWarning: pandas.util.testing is deprecated. Use the functions in the public API at pandas.testing instead.\n",
            "  import pandas.util.testing as tm\n"
          ],
          "name": "stderr"
        }
      ]
    },
    {
      "cell_type": "markdown",
      "metadata": {
        "id": "UNVySYzahx3j",
        "colab_type": "text"
      },
      "source": [
        "Now We will import our data"
      ]
    },
    {
      "cell_type": "code",
      "metadata": {
        "id": "SeEi6_dejn1A",
        "colab_type": "code",
        "colab": {}
      },
      "source": [
        "train = pd.read_csv(\"train.csv\")\n",
        "survived = pd.read_csv(\"gender_submission.csv\")\n",
        "test = pd.read_csv(\"test.csv\")\n"
      ],
      "execution_count": 0,
      "outputs": []
    },
    {
      "cell_type": "markdown",
      "metadata": {
        "id": "XtPV651mk8H4",
        "colab_type": "text"
      },
      "source": [
        "After importing the next Step is pre processing\n",
        "we will pre process in the following order"
      ]
    },
    {
      "cell_type": "code",
      "metadata": {
        "id": "djcBkqGxj7Hw",
        "colab_type": "code",
        "outputId": "37a4ca5a-0e3d-4aaa-c3b6-d1a2467cf613",
        "colab": {
          "base_uri": "https://localhost:8080/",
          "height": 357
        }
      },
      "source": [
        "# Pre Processing\n",
        "\n",
        "#Checking for NULL values\n",
        "print(train.info())\n",
        "#print(test.info())"
      ],
      "execution_count": 3,
      "outputs": [
        {
          "output_type": "stream",
          "text": [
            "<class 'pandas.core.frame.DataFrame'>\n",
            "RangeIndex: 891 entries, 0 to 890\n",
            "Data columns (total 12 columns):\n",
            " #   Column       Non-Null Count  Dtype  \n",
            "---  ------       --------------  -----  \n",
            " 0   PassengerId  891 non-null    int64  \n",
            " 1   Survived     891 non-null    int64  \n",
            " 2   Pclass       891 non-null    int64  \n",
            " 3   Name         891 non-null    object \n",
            " 4   Sex          891 non-null    object \n",
            " 5   Age          714 non-null    float64\n",
            " 6   SibSp        891 non-null    int64  \n",
            " 7   Parch        891 non-null    int64  \n",
            " 8   Ticket       891 non-null    object \n",
            " 9   Fare         891 non-null    float64\n",
            " 10  Cabin        204 non-null    object \n",
            " 11  Embarked     889 non-null    object \n",
            "dtypes: float64(2), int64(5), object(5)\n",
            "memory usage: 83.7+ KB\n",
            "None\n"
          ],
          "name": "stdout"
        }
      ]
    },
    {
      "cell_type": "code",
      "metadata": {
        "id": "ovHOuBJpn37C",
        "colab_type": "code",
        "colab": {}
      },
      "source": [
        "'''\n",
        "Age            714 non-null float64\n",
        "Cabin          204 non-null object\n",
        "Embarked       889 non-null object\n",
        "They have missing values\n",
        "\n",
        "'''\n",
        "# We replace the Null values with mean of the particualr column\n",
        "train = train.fillna(train.median())\n",
        "test = test.fillna(test.median())\n",
        "# basically, fill ages with mean of all ages\n"
      ],
      "execution_count": 0,
      "outputs": []
    },
    {
      "cell_type": "code",
      "metadata": {
        "id": "WJM4d2pKlLXa",
        "colab_type": "code",
        "outputId": "599927b6-658c-4ad8-bf77-77e8fc151a53",
        "colab": {
          "base_uri": "https://localhost:8080/",
          "height": 51
        }
      },
      "source": [
        "'''\n",
        "# Label Encoding\n",
        "\n",
        "source -> https://www.geeksforgeeks.org/ml-label-encoding-of-datasets-in-python/\n",
        "As we know computer can only understand numbers and not strings.\n",
        "so sex like 'male' and 'female' would be hard for the computer to decide\n",
        "\n",
        "hence we will change it into features \n",
        "the numbering depends upon which features comes first\n",
        "1- male\n",
        "0- female\n",
        "'''\n",
        "print(train['Sex'].unique()) \n",
        "train['Sex']= label_encoder.fit_transform(train['Sex']) \n",
        "print(train['Sex'].unique())\n",
        "test['Sex']= label_encoder.fit_transform(test['Sex']) "
      ],
      "execution_count": 5,
      "outputs": [
        {
          "output_type": "stream",
          "text": [
            "['male' 'female']\n",
            "[1 0]\n"
          ],
          "name": "stdout"
        }
      ]
    },
    {
      "cell_type": "code",
      "metadata": {
        "id": "R6C12rOw9gmp",
        "colab_type": "code",
        "colab": {}
      },
      "source": [
        "train = train.fillna({\"Embarked\": \"Q\"})\n",
        "embark_convert = {\"S\": 1, \"C\": 2, \"Q\": 3}\n",
        "train['Embarked'] = train['Embarked'].map(embark_convert)\n",
        "test['Embarked'] = test['Embarked'].map(embark_convert)"
      ],
      "execution_count": 0,
      "outputs": []
    },
    {
      "cell_type": "markdown",
      "metadata": {
        "id": "Ab0FoqrHIOdc",
        "colab_type": "text"
      },
      "source": [
        "Visualizing each feature wrt to anonther"
      ]
    },
    {
      "cell_type": "code",
      "metadata": {
        "id": "4PeMS_v2IU_4",
        "colab_type": "code",
        "colab": {
          "base_uri": "https://localhost:8080/",
          "height": 296
        },
        "outputId": "2a6ff786-8407-48e7-80b5-734e8f9c1f06"
      },
      "source": [
        "sns.barplot(x='Embarked',y='Survived',data=train)"
      ],
      "execution_count": 7,
      "outputs": [
        {
          "output_type": "execute_result",
          "data": {
            "text/plain": [
              "<matplotlib.axes._subplots.AxesSubplot at 0x7f0ca061f470>"
            ]
          },
          "metadata": {
            "tags": []
          },
          "execution_count": 7
        },
        {
          "output_type": "display_data",
          "data": {
            "image/png": "[encoded data removed]",
            "text/plain": [
              "<Figure size 432x288 with 1 Axes>"
            ]
          },
          "metadata": {
            "tags": [],
            "needs_background": "light"
          }
        }
      ]
    },
    {
      "cell_type": "code",
      "metadata": {
        "id": "mpAFwWH6JYpt",
        "colab_type": "code",
        "colab": {
          "base_uri": "https://localhost:8080/",
          "height": 296
        },
        "outputId": "d73c0ea4-09d4-4f26-e3e7-bbf4ffc09560"
      },
      "source": [
        "sns.barplot(x='Age',y='Survived',data=train)"
      ],
      "execution_count": 8,
      "outputs": [
        {
          "output_type": "execute_result",
          "data": {
            "text/plain": [
              "<matplotlib.axes._subplots.AxesSubplot at 0x7f0ca0528438>"
            ]
          },
          "metadata": {
            "tags": []
          },
          "execution_count": 8
        },
        {
          "output_type": "display_data",
          "data": {
            "image/png": "[encoded data removed]",
            "text/plain": [
              "<Figure size 432x288 with 1 Axes>"
            ]
          },
          "metadata": {
            "tags": [],
            "needs_background": "light"
          }
        }
      ]
    },
    {
      "cell_type": "code",
      "metadata": {
        "id": "R-SWPxDmJbH3",
        "colab_type": "code",
        "colab": {
          "base_uri": "https://localhost:8080/",
          "height": 296
        },
        "outputId": "540c2a43-4a23-45da-f11c-d2437ae3d3c8"
      },
      "source": [
        "sns.barplot(x='Sex',y='Survived',data=train)"
      ],
      "execution_count": 9,
      "outputs": [
        {
          "output_type": "execute_result",
          "data": {
            "text/plain": [
              "<matplotlib.axes._subplots.AxesSubplot at 0x7f0ca0599c18>"
            ]
          },
          "metadata": {
            "tags": []
          },
          "execution_count": 9
        },
        {
          "output_type": "display_data",
          "data": {
            "image/png": "[encoded data removed]",
            "text/plain": [
              "<Figure size 432x288 with 1 Axes>"
            ]
          },
          "metadata": {
            "tags": [],
            "needs_background": "light"
          }
        }
      ]
    },
    {
      "cell_type": "code",
      "metadata": {
        "id": "obZc99dOlQ8U",
        "colab_type": "code",
        "outputId": "c223aa01-c2bf-4663-95e7-ed7af103036a",
        "colab": {
          "base_uri": "https://localhost:8080/",
          "height": 85
        }
      },
      "source": [
        "'''\n",
        "Feature Selection\n",
        "\n",
        "Deciding what all features to be used in our datset.\n",
        "\n",
        "'''\n",
        "print(\"Original features:\")\n",
        "print(train.columns)\n"
      ],
      "execution_count": 11,
      "outputs": [
        {
          "output_type": "stream",
          "text": [
            "Original features:\n",
            "Index(['PassengerId', 'Survived', 'Pclass', 'Name', 'Sex', 'Age', 'SibSp',\n",
            "       'Parch', 'Ticket', 'Fare', 'Cabin', 'Embarked'],\n",
            "      dtype='object')\n"
          ],
          "name": "stdout"
        }
      ]
    },
    {
      "cell_type": "code",
      "metadata": {
        "id": "ioYk8XbYoOmk",
        "colab_type": "code",
        "colab": {}
      },
      "source": [
        "'''\n",
        "Lets removing features we don't want\n",
        "# Backward Selection\n",
        "\n",
        "'''\n",
        "#Name\n",
        "train.drop(columns=[\"Name\"],inplace= True)\n",
        "test.drop(columns=[\"Name\"],inplace=True)\n",
        "\n",
        "#Ticket\n",
        "train.drop(columns=[\"Ticket\"],inplace= True)\n",
        "test.drop(columns=[\"Ticket\"],inplace=True)\n",
        "\n",
        "#Cabin\n",
        "train.drop(columns=[\"Cabin\"],inplace= True)\n",
        "test.drop(columns=[\"Cabin\"],inplace=True)\n",
        "\n",
        "#Parch\n",
        "train.drop(columns=[\"Parch\"],inplace= True)\n",
        "test.drop(columns=[\"Parch\"],inplace=True)\n",
        "\n",
        "#Passenger Id\n",
        "train.drop(columns=[\"PassengerId\"],inplace= True)\n",
        "test.drop(columns=[\"PassengerId\"],inplace=True)\n",
        "\n",
        "#SibSp\n",
        "train.drop(columns=[\"SibSp\"],inplace= True)\n",
        "test.drop(columns=[\"SibSp\"],inplace=True)\n"
      ],
      "execution_count": 0,
      "outputs": []
    },
    {
      "cell_type": "code",
      "metadata": {
        "id": "B1EM2CqMpxNA",
        "colab_type": "code",
        "outputId": "537d326f-bd5a-4310-c5d3-608a1f4700c6",
        "colab": {
          "base_uri": "https://localhost:8080/",
          "height": 51
        }
      },
      "source": [
        "print(train.columns)\n",
        "print(test.columns)\n"
      ],
      "execution_count": 13,
      "outputs": [
        {
          "output_type": "stream",
          "text": [
            "Index(['Survived', 'Pclass', 'Sex', 'Age', 'Fare', 'Embarked'], dtype='object')\n",
            "Index(['Pclass', 'Sex', 'Age', 'Fare', 'Embarked'], dtype='object')\n"
          ],
          "name": "stdout"
        }
      ]
    },
    {
      "cell_type": "code",
      "metadata": {
        "id": "MMM7PDmWqTnR",
        "colab_type": "code",
        "outputId": "223df406-1202-41ce-f405-2ab8e85a3064",
        "colab": {
          "base_uri": "https://localhost:8080/",
          "height": 85
        }
      },
      "source": [
        "'''\n",
        "Now Let's Split our Data base into\n",
        "train - all the featues of our traing dataset\n",
        "train_result - traing dataset result\n",
        "test - all the features of our testing dataset\n",
        "test_original - original result for testing accuracy\n",
        "test_prediction - our predicted result\n",
        "'''\n",
        "\n",
        "train_result = train[\"Survived\"]\n",
        "train.drop(columns=[\"Survived\"],inplace= True)\n",
        "print(\"Traing Features:\")\n",
        "print(train.columns)\n",
        "print(\"Testing Features:\")\n",
        "print(test.columns)\n",
        "test_original = survived[\"Survived\"].to_numpy()\n"
      ],
      "execution_count": 14,
      "outputs": [
        {
          "output_type": "stream",
          "text": [
            "Traing Features:\n",
            "Index(['Pclass', 'Sex', 'Age', 'Fare', 'Embarked'], dtype='object')\n",
            "Testing Features:\n",
            "Index(['Pclass', 'Sex', 'Age', 'Fare', 'Embarked'], dtype='object')\n"
          ],
          "name": "stdout"
        }
      ]
    },
    {
      "cell_type": "markdown",
      "metadata": {
        "id": "y8x-_Pt7xFvg",
        "colab_type": "text"
      },
      "source": [
        "Now our Actual Implementation"
      ]
    },
    {
      "cell_type": "code",
      "metadata": {
        "id": "QI2sjFVerPcB",
        "colab_type": "code",
        "colab": {}
      },
      "source": [
        "''' \n",
        "Creating a model using RandomForestClassifier library\n",
        "'''\n",
        "model = RandomForestClassifier(n_jobs=2, random_state=3)\n",
        "# Don't ask me what those parameters does....study theory for details\n"
      ],
      "execution_count": 0,
      "outputs": []
    },
    {
      "cell_type": "code",
      "metadata": {
        "id": "KxKUQZSbxrx4",
        "colab_type": "code",
        "outputId": "38918881-186a-4def-8d76-679be1bc36b0",
        "colab": {
          "base_uri": "https://localhost:8080/",
          "height": 153
        }
      },
      "source": [
        "# Traing our Model\n",
        "# To train our model we will give it the training features \n",
        "# with correct answers\n",
        "# More of like teaching a student by showing him images that the image is cat or dog\n",
        "model.fit(train, train_result)\n"
      ],
      "execution_count": 16,
      "outputs": [
        {
          "output_type": "execute_result",
          "data": {
            "text/plain": [
              "RandomForestClassifier(bootstrap=True, ccp_alpha=0.0, class_weight=None,\n",
              "                       criterion='gini', max_depth=None, max_features='auto',\n",
              "                       max_leaf_nodes=None, max_samples=None,\n",
              "                       min_impurity_decrease=0.0, min_impurity_split=None,\n",
              "                       min_samples_leaf=1, min_samples_split=2,\n",
              "                       min_weight_fraction_leaf=0.0, n_estimators=100, n_jobs=2,\n",
              "                       oob_score=False, random_state=3, verbose=0,\n",
              "                       warm_start=False)"
            ]
          },
          "metadata": {
            "tags": []
          },
          "execution_count": 16
        }
      ]
    },
    {
      "cell_type": "code",
      "metadata": {
        "id": "R-JG-FxqxKK7",
        "colab_type": "code",
        "colab": {}
      },
      "source": [
        "# Getting Predictions\n",
        "# take a suprise test by showing it new features which it was'nt trained upon\n",
        "# and asking our model what he thinks those features mean\n",
        "test_predict=model.predict(test)"
      ],
      "execution_count": 0,
      "outputs": []
    },
    {
      "cell_type": "code",
      "metadata": {
        "id": "CLYu57I9yAI6",
        "colab_type": "code",
        "outputId": "8b567205-e1b4-47a5-d402-a288f90dbeb5",
        "colab": {
          "base_uri": "https://localhost:8080/",
          "height": 221
        }
      },
      "source": [
        "print(test_predict)"
      ],
      "execution_count": 18,
      "outputs": [
        {
          "output_type": "stream",
          "text": [
            "[0 0 0 1 1 0 0 0 1 0 0 0 1 0 1 1 0 1 1 0 0 0 1 1 1 0 1 1 1 0 0 0 1 0 0 0 1\n",
            " 0 0 1 0 1 0 1 1 0 0 0 1 1 0 0 1 1 0 0 0 0 0 1 0 0 0 1 1 0 1 0 0 1 1 0 0 0\n",
            " 1 0 0 1 0 1 1 0 0 0 0 0 1 1 1 1 0 0 1 0 0 0 1 0 1 0 1 0 0 0 1 0 0 0 1 0 0\n",
            " 1 1 0 1 0 0 1 0 1 1 0 1 0 0 1 0 1 0 0 1 0 0 0 0 0 0 0 0 0 0 1 0 0 1 0 0 0\n",
            " 1 0 1 0 0 1 0 0 1 0 1 0 1 1 1 1 0 0 1 0 1 0 0 0 0 0 0 1 1 0 1 1 0 0 1 0 1\n",
            " 0 1 0 0 0 0 0 0 0 1 0 1 0 0 1 1 1 0 1 0 0 0 0 1 0 0 0 0 1 0 0 1 0 1 0 1 0\n",
            " 1 1 1 0 0 1 0 0 0 1 0 0 1 0 0 1 1 1 1 1 0 0 0 0 1 0 1 0 1 0 0 0 0 0 0 0 1\n",
            " 0 0 0 1 1 0 0 0 0 1 0 0 0 1 1 0 1 0 0 0 0 0 1 1 0 0 0 0 0 0 0 0 0 0 0 0 0\n",
            " 1 0 0 0 0 0 0 0 1 1 0 1 0 0 0 1 0 0 1 1 0 0 0 0 0 0 0 1 1 0 1 0 0 0 1 0 0\n",
            " 1 0 0 1 0 0 0 0 0 0 1 0 1 0 0 0 1 1 0 0 0 0 0 1 0 0 1 0 1 1 1 1 0 0 0 1 1\n",
            " 0 1 0 0 1 1 0 0 0 0 0 0 0 1 0 1 0 0 0 1 0 1 0 0 0 1 0 1 0 0 1 0 1 0 0 0 0\n",
            " 0 1 1 1 1 0 0 1 0 0 0]\n"
          ],
          "name": "stdout"
        }
      ]
    },
    {
      "cell_type": "code",
      "metadata": {
        "id": "-06rTi6AzBe4",
        "colab_type": "code",
        "outputId": "13d62c58-8a53-4ce0-fa54-3ec887a7408c",
        "colab": {
          "base_uri": "https://localhost:8080/",
          "height": 51
        }
      },
      "source": [
        "# Comparing Accuracy\n",
        "print(\"Accuracy:\",accuracy_score(test_predict,test_original)*100)\n",
        "print(\"Error Rate\",100-(accuracy_score(test_predict,test_original)*100))\n"
      ],
      "execution_count": 19,
      "outputs": [
        {
          "output_type": "stream",
          "text": [
            "Accuracy: 83.97129186602871\n",
            "Error Rate 16.028708133971293\n"
          ],
          "name": "stdout"
        }
      ]
    },
    {
      "cell_type": "code",
      "metadata": {
        "id": "VwJIOnWCzCz_",
        "colab_type": "code",
        "outputId": "b950daab-808f-4a62-bb12-570d1bb3d2b0",
        "colab": {
          "base_uri": "https://localhost:8080/",
          "height": 187
        }
      },
      "source": [
        "# Comparing output side by side\n",
        "view = 10\n",
        "for x in range(view):\n",
        "    l=\"\"\n",
        "    if test_predict[x] != survived[\"Survived\"].iloc[x]:\n",
        "        l=\"False\"\n",
        "\n",
        "    print(survived[\"PassengerId\"].iloc[x],test_predict[x] ,survived[\"Survived\"].iloc[x],' - ',l)"
      ],
      "execution_count": 20,
      "outputs": [
        {
          "output_type": "stream",
          "text": [
            "892 0 0  -  \n",
            "893 0 1  -  False\n",
            "894 0 0  -  \n",
            "895 1 0  -  False\n",
            "896 1 1  -  \n",
            "897 0 0  -  \n",
            "898 0 1  -  False\n",
            "899 0 0  -  \n",
            "900 1 1  -  \n",
            "901 0 0  -  \n"
          ],
          "name": "stdout"
        }
      ]
    }
  ]
}